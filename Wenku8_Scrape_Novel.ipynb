{
 "cells": [
  {
   "cell_type": "code",
   "execution_count": null,
   "id": "twenty-hampshire",
   "metadata": {},
   "outputs": [],
   "source": [
    "# 練習拿輕小說文庫的書\n",
    "def Scrape_Novel(url, Name):\n",
    "    import requests, re, pprint, os\n",
    "    from bs4 import BeautifulSoup\n",
    "    if not os.path.exists(Name):\n",
    "        os.makedirs(Name)\n",
    "    response = requests.get(url)# 用 requests 的 get 方法把網頁抓下來\n",
    "    response.encoding = response.apparent_encoding\n",
    "    soup = BeautifulSoup(response.text, \"lxml\") # 指定 lxml 作為解析器\n",
    "    list_news = []\n",
    "    for a in soup.select('td.ccss a'):\n",
    "       list_news.append(a['href'])\n",
    "    for index, link in enumerate(list_news):\n",
    "        try:\n",
    "            res=requests.get(link)\n",
    "            res.encoding = res.apparent_encoding #轉換編碼\n",
    "            soup_link = BeautifulSoup(res.text, \"lxml\")\n",
    "            EposideName = soup_link.select('div#title')[0].get_text() #取得章回名稱\n",
    "            Text = soup_link.select('div#content')[0].get_text() #取得小說內文\n",
    "            with open(\"{}/\".format(Name)+str((int(index)+1))+\"_\"+\"{}.txt\".format(EposideName), 'w', encoding = 'utf-8') as f:  \n",
    "                f.write(Text)\n",
    "                f.close()\n",
    "        except:\n",
    "            print(\"出現錯誤\")"
   ]
  },
  {
   "cell_type": "code",
   "execution_count": null,
   "id": "de5100fa",
   "metadata": {},
   "outputs": [],
   "source": [
    "url = \"https://www.wenku8.net/modules/article/reader.php?aid=2654\" #將小說首頁網址貼上\n",
    "Name = \"藥屋少女的呢喃\" #輸入小說名稱\n",
    "Scrape_Novel(url, Name) #呼叫爬蟲程式"
   ]
  }
 ],
 "metadata": {
  "kernelspec": {
   "display_name": "Python 3",
   "language": "python",
   "name": "python3"
  },
  "language_info": {
   "codemirror_mode": {
    "name": "ipython",
    "version": 3
   },
   "file_extension": ".py",
   "mimetype": "text/x-python",
   "name": "python",
   "nbconvert_exporter": "python",
   "pygments_lexer": "ipython3",
   "version": "3.8.5"
  }
 },
 "nbformat": 4,
 "nbformat_minor": 5
}
