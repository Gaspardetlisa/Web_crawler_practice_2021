{
 "cells": [
  {
   "cell_type": "markdown",
   "metadata": {},
   "source": [
    "# 產生台股上市上櫃一覽表\n",
    "\n",
    "表格說明：有價證券代號/名稱/國際證券辨識號碼(ISIN Code)/上市日/市場別/產業別/CFICode\n",
    "\n",
    "英文對照：stock_id/stock_name/ISIN_Code/Listing_date/Listing_category/Industry_category/CFICode"
   ]
  },
  {
   "cell_type": "code",
   "execution_count": null,
   "metadata": {},
   "outputs": [],
   "source": [
    "import requests\n",
    "import pandas as pd\n",
    "from datetime import datetime\n",
    "import time\n",
    "import random\n",
    "\n",
    "urllist=[2,4]#已知上市上櫃股票的清單分別為在第二和第四子網頁\n",
    "starttime=datetime.now()#存放爬下來的資料#紀錄爬取該支股票要多久\n",
    "df=pd.DataFrame()#存放爬下來的資料\n",
    "\n",
    "for obj in urllist:\n",
    "    url = \"http://isin.twse.com.tw/isin/C_public.jsp?strMode=\"+str(obj)\n",
    "    data = pd.read_html(requests.get(url).text)[0]\n",
    "    df = df.append(data)\n",
    "    time.sleep (random.randrange(1, 10))\n",
    "    \n",
    "mask = df[5] == \"ESVUFR\"\n",
    "df = df[mask].reset_index(drop=True)\n",
    "df = df.iloc[:,0:6]\n",
    "df.columns=['有價證券代號及名稱','國際證券辨識號碼(ISIN Code)','上市日','市場別','產業別','CFICode']\n",
    "df['有價證券代號'] = df['有價證券代號及名稱'].str.split('\\s+').str.get(0)\n",
    "df['名稱'] = df['有價證券代號及名稱'].str.split('\\s+').str.get(1)\n",
    "df[\"上市日\"] = pd.to_datetime(df[\"上市日\"], format='%Y/%m/%d')\n",
    "df = df[['有價證券代號','名稱','國際證券辨識號碼(ISIN Code)','上市日','市場別','產業別','CFICode']]\n",
    "df.columns=[\"stock_id\",\"stock_name\",'ISIN_Code','Listing_date','Listing_category','Industry_category','CFICode']\n",
    "df.to_csv(\"stock_list.csv\",encoding='utf-8', index=False)\n",
    "\n",
    "endtime= datetime.now() #紀錄爬取該支股票要多久\n",
    "print(\"執行時間:\",endtime-starttime,\"秒\") #紀錄爬取該支股票要多久"
   ]
  },
  {
   "cell_type": "markdown",
   "metadata": {},
   "source": [
    "# 證交所單股每日交易量 (爬取上市股票）\n",
    "表格說明：股票代碼/公司名稱/日期/成交量/成交金額/開盤價/最高價/最低價/收盤價/漲跌幅/交易筆數\n",
    "\n",
    "英文對照：stock_id/stock_name/date/Volume/Volume_Cash/Open/High/Low/Close/Change/Order"
   ]
  },
  {
   "cell_type": "code",
   "execution_count": 3,
   "metadata": {},
   "outputs": [],
   "source": [
    "def Stock_crawl(stockNo,Name):\n",
    "    import pandas as pd\n",
    "    import numpy as np\n",
    "    import json\n",
    "    import requests\n",
    "    import time\n",
    "    import random\n",
    "    from datetime import datetime\n",
    "\n",
    "    dates=[]\n",
    "#     for i in range (2010,2022): #證交所只提供99年起的資料。\n",
    "    for i in range (2021,2022): #這行供小量測試。\n",
    "        for j in range(1,13):\n",
    "            if j <10:\n",
    "                j=\"0\"+str(j)\n",
    "            dates.append(str(i)+str(j)+str(\"01\"))\n",
    "    starttime=datetime.now() #紀錄多久\n",
    "\n",
    "    json_list=[]\n",
    "    json_data=[]\n",
    "    for Date in dates:\n",
    "        try:\n",
    "            url = f'https://www.twse.com.tw/exchangeReport/STOCK_DAY?response=json&date={Date}&stockNo={stockNo}'\n",
    "\n",
    "            data = requests.get(url).text\n",
    "            json_data = json.loads(data)\n",
    "            json_list.append(json_data['data'])\n",
    "            time.sleep (random.randrange(1, 10))\n",
    "        except:\n",
    "            print(\"No data of\",Date,Name)\n",
    "            time.sleep (random.randrange(1, 10))\n",
    "    try:\n",
    "        json=[] \n",
    "        json_stock=[]\n",
    "        for i in range (0, len(json_list)):\n",
    "            for j in range(0,len(json_list[i])):\n",
    "                json_stock.append(json_list[i][j])\n",
    "\n",
    "        for j in range(0,(len(json_stock))):\n",
    "            StockPrice = pd.DataFrame(json_stock, columns = ['date','Volume','Volume_Cash','Open','High','Low','Close','Change','Order'])\n",
    "\n",
    "            StockPrice['date'] = StockPrice['date'].str.replace('/','').astype(int) + 19110000\n",
    "            StockPrice['date'] = pd.to_datetime(StockPrice['date'].astype(str))\n",
    "            StockPrice['Volume'] = StockPrice['Volume'].str.replace(',','').astype(float)\n",
    "            StockPrice['Volume_Cash'] = StockPrice['Volume_Cash'].str.replace(',','').astype(float)\n",
    "            StockPrice['Order'] = StockPrice['Order'].str.replace(',','').astype(float)\n",
    "\n",
    "            StockPrice['Open'] = StockPrice['Open'].str.replace(',','').astype(float)\n",
    "            StockPrice['High'] = StockPrice['High'].str.replace(',','').astype(float)\n",
    "            StockPrice['Low'] = StockPrice['Low'].str.replace(',','').astype(float)\n",
    "            StockPrice['Close'] = StockPrice['Close'].str.replace(',','').astype(float)\n",
    "            StockPrice['Change'] = StockPrice['Change'].str.replace(',','').str.replace('+','').str.replace('X','').astype(float)\n",
    "            StockPrice.insert(0,column='stock_id',value=stockNo)\n",
    "            StockPrice.insert(1,column='stock_name',value=Name)\n",
    "            StockPrice = StockPrice[['stock_id','stock_name','date','Volume','Volume_Cash','Open','High','Low','Close','Change','Order']]\n",
    "            #中文對照：股票代碼/公司名稱/日期/成交量/成交金額/開盤價/最高價/最低價/收盤價/漲跌幅/交易筆數\n",
    "    except:\n",
    "        print(\"Woops, Something wrong~\")\n",
    "\n",
    "    file_name = \"{}_daily.csv\".format(stockNo)\n",
    "    StockPrice.to_csv(file_name, index=False)\n",
    "    print(file_name+\"下載完成...\", end=\"\")\n",
    "    endtime= datetime.now() #紀錄爬取該支股票要多久\n",
    "    print(\"執行時間:\",endtime-starttime,\"秒\") #紀錄爬取該支股票要多久"
   ]
  },
  {
   "cell_type": "code",
   "execution_count": 4,
   "metadata": {},
   "outputs": [
    {
     "name": "stdout",
     "output_type": "stream",
     "text": [
      "No data of 20210501 台泥\n",
      "No data of 20210601 台泥\n",
      "No data of 20210701 台泥\n",
      "No data of 20210801 台泥\n",
      "No data of 20210901 台泥\n",
      "No data of 20211001 台泥\n",
      "No data of 20211101 台泥\n",
      "No data of 20211201 台泥\n",
      "1101_daily.csv下載完成...執行時間: 0:01:06.839531 秒\n"
     ]
    }
   ],
   "source": [
    "import csv\n",
    "with open('stock_list_for_test.csv') as f:#供小型測試用\n",
    "# with open('stock_list.csv') as f:\n",
    "    list_of_stock = csv.DictReader(f)\n",
    "    for obj in list_of_stock:\n",
    "        Stock_crawl(obj['stock_id'],obj['stock_name'])"
   ]
  }
 ],
 "metadata": {
  "kernelspec": {
   "display_name": "Python 3",
   "language": "python",
   "name": "python3"
  },
  "language_info": {
   "codemirror_mode": {
    "name": "ipython",
    "version": 3
   },
   "file_extension": ".py",
   "mimetype": "text/x-python",
   "name": "python",
   "nbconvert_exporter": "python",
   "pygments_lexer": "ipython3",
   "version": "3.8.5"
  }
 },
 "nbformat": 4,
 "nbformat_minor": 4
}
