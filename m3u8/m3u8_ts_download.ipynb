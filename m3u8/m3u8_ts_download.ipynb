{
 "cells": [
  {
   "cell_type": "markdown",
   "id": "f14f8294",
   "metadata": {},
   "source": [
    "# 為瞭解串流影片運作方式而寫"
   ]
  },
  {
   "cell_type": "code",
   "execution_count": null,
   "id": "475705a0",
   "metadata": {},
   "outputs": [],
   "source": [
    "def get_m3u8(Name):\n",
    "    import csv\n",
    "    import requests, re, pprint, os\n",
    "    if not os.path.exists(Name):\n",
    "        os.makedirs(Name)\n",
    "        os.makedirs(Name+\"/m3u8\")\n",
    "    with open('website.csv',encoding=\"utf-8\") as f:\n",
    "        list_of_movie = csv.DictReader(f)\n",
    "        for obj in list_of_movie:\n",
    "            Data = str(obj['link']) \n",
    "            movie = requests.get(Data)  \n",
    "            with open(\"{}/m3u8/{}.m3u8\".format(Name,obj['index']), \"wb\") as file:  \n",
    "                file.write(movie.content)  \n",
    "\n",
    "            if int(obj['index'])<10:\n",
    "                os.makedirs(\"{}/{}0{}\".format(Name,Name,(obj['index'])))\n",
    "            else:\n",
    "                os.makedirs(\"{}/{}{}\".format(Name,Name,(obj['index'])))"
   ]
  },
  {
   "cell_type": "code",
   "execution_count": null,
   "id": "371169df",
   "metadata": {},
   "outputs": [],
   "source": [
    "def get_ts(Name):\n",
    "    import time\n",
    "    import random\n",
    "    import csv\n",
    "    import requests, re, pprint, os\n",
    "    from datetime import datetime\n",
    "\n",
    "    starttime=datetime.now() #開始時間\n",
    "    with open('website.csv',encoding=\"utf-8\") as f:\n",
    "        list_of_movie = csv.DictReader(f)\n",
    "        for obj in list_of_movie:\n",
    "            if int(obj['index'])<10:\n",
    "                f = open(\"{}/m3u8/{}.m3u8\".format(Name,obj['index']))\n",
    "                n=0\n",
    "                for line in f.readlines():\n",
    "                    if \".ts\" in line:\n",
    "                        movie = requests.get(str(line.replace(\"\\n\",\"\")))\n",
    "                        if n<10:\n",
    "                            with open(\"{}/{}0{}/000\".format(Name,Name,(obj['index']))+str(n)+\".ts\", \"wb\") as file:\n",
    "                                file.write(movie.content)\n",
    "                        elif n<100:\n",
    "                            with open(\"{}/{}0{}/00\".format(Name,Name,(obj['index']))+str(n)+\".ts\", \"wb\") as file:\n",
    "                                file.write(movie.content)\n",
    "                        else:\n",
    "                            with open(\"{}/{}0{}/0\".format(Name,Name,(obj['index']))+str(n)+\".ts\", \"wb\") as file:\n",
    "                                file.write(movie.content)\n",
    "                        n=n+1\n",
    "                f.close\n",
    "            else:\n",
    "                f = open(\"{}/m3u8/{}.m3u8\".format(Name,obj['index']))\n",
    "                n=0\n",
    "                for line in f.readlines():\n",
    "                    if \".ts\" in line:\n",
    "                        movie = requests.get(str(line.replace(\"\\n\",\"\")))\n",
    "                        if n<10:\n",
    "                            with open(\"{}/{}{}/000\".format(Name,Name,(obj['index']))+str(n)+\".ts\", \"wb\") as file:\n",
    "                                file.write(movie.content)\n",
    "                        elif n<100:\n",
    "                            with open(\"{}/{}{}/00\".format(Name,Name,(obj['index']))+str(n)+\".ts\", \"wb\") as file:\n",
    "                                file.write(movie.content)\n",
    "                        else:\n",
    "                            with open(\"{}/{}{}/0\".format(Name,Name,(obj['index']))+str(n)+\".ts\", \"wb\") as file:\n",
    "                                file.write(movie.content)\n",
    "                        n=n+1\n",
    "                f.close\n",
    "            print(\"睡一下Zzz...\",end=\"\")\n",
    "            time.sleep (random.randrange(5,10))\n",
    "            print(\"我起來了～\")\n",
    "    endtime= datetime.now() #結束時間\n",
    "    print(\"下載完成\")\n",
    "    print(\"執行時間:\",endtime-starttime,\"秒\") #紀錄要多久"
   ]
  },
  {
   "cell_type": "code",
   "execution_count": null,
   "id": "1d02fea5",
   "metadata": {},
   "outputs": [],
   "source": [
    "Name = input(\"請輸入影片名稱：\") \n",
    "get_m3u8(Name)\n",
    "get_ts(Name)"
   ]
  },
  {
   "cell_type": "code",
   "execution_count": null,
   "id": "eed36755",
   "metadata": {},
   "outputs": [],
   "source": [
    "# 搭配 movie_batch.bash 合併影片"
   ]
  }
 ],
 "metadata": {
  "kernelspec": {
   "display_name": "Python 3",
   "language": "python",
   "name": "python3"
  },
  "language_info": {
   "codemirror_mode": {
    "name": "ipython",
    "version": 3
   },
   "file_extension": ".py",
   "mimetype": "text/x-python",
   "name": "python",
   "nbconvert_exporter": "python",
   "pygments_lexer": "ipython3",
   "version": "3.8.5"
  }
 },
 "nbformat": 4,
 "nbformat_minor": 5
}
